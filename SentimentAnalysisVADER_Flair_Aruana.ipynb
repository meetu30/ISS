{
  "nbformat": 4,
  "nbformat_minor": 0,
  "metadata": {
    "kernelspec": {
      "display_name": "Python 3",
      "language": "python",
      "name": "python3"
    },
    "language_info": {
      "codemirror_mode": {
        "name": "ipython",
        "version": 3
      },
      "file_extension": ".py",
      "mimetype": "text/x-python",
      "name": "python",
      "nbconvert_exporter": "python",
      "pygments_lexer": "ipython3",
      "version": "3.8.3"
    },
    "colab": {
      "name": "SentimentAnalysisVADER.ipynb",
      "provenance": [],
      "collapsed_sections": [],
      "include_colab_link": true
    }
  },
  "cells": [
    {
      "cell_type": "markdown",
      "metadata": {
        "id": "view-in-github",
        "colab_type": "text"
      },
      "source": [
        "<a href=\"https://colab.research.google.com/github/meetu30/ISS/blob/main/SentimentAnalysisVADER_Flair_Aruana.ipynb\" target=\"_parent\"><img src=\"https://colab.research.google.com/assets/colab-badge.svg\" alt=\"Open In Colab\"/></a>"
      ]
    },
    {
      "cell_type": "markdown",
      "metadata": {
        "id": "oT6YVfVU8KCs"
      },
      "source": [
        "# # PART 1: Sentiment Analysis using VADER"
      ]
    },
    {
      "cell_type": "code",
      "metadata": {
        "id": "pScuBsot8KCt"
      },
      "source": [
        "# download vader_lexicon using nltk.download()\n",
        "import nltk\n",
        "from nltk.sentiment.vader import SentimentIntensityAnalyzer\n",
        "import pandas as pd\n",
        "import numpy as np\n",
        "from wordcloud import WordCloud, STOPWORDS"
      ],
      "execution_count": 39,
      "outputs": []
    },
    {
      "cell_type": "code",
      "metadata": {
        "id": "E0ZHZJgU9lWV",
        "outputId": "e07c6645-309f-4c49-a6a5-5794d237bd24",
        "colab": {
          "base_uri": "https://localhost:8080/"
        }
      },
      "source": [
        "#mount google drive\n",
        "from google.colab import drive\n",
        "drive.mount('/content/drive')"
      ],
      "execution_count": 40,
      "outputs": [
        {
          "output_type": "stream",
          "text": [
            "Drive already mounted at /content/drive; to attempt to forcibly remount, call drive.mount(\"/content/drive\", force_remount=True).\n"
          ],
          "name": "stdout"
        }
      ]
    },
    {
      "cell_type": "code",
      "metadata": {
        "scrolled": true,
        "id": "jd2r0KUp8KCy",
        "outputId": "471b8aac-3946-49a4-d42a-789789b26ae1",
        "colab": {
          "base_uri": "https://localhost:8080/",
          "height": 204
        }
      },
      "source": [
        "#Read the csv\n",
        "fileName = \"/content/drive/My Drive/ISS/CompiledCases.csv\"\n",
        "column = \"Case\"\n",
        "Data = pd.read_csv(fileName,encoding=\"Latin-1\")\n",
        "Data = Data.replace(np.nan,' ',regex=True)\n",
        "sentences = list(Data[column])\n",
        "Data.head()\n"
      ],
      "execution_count": 41,
      "outputs": [
        {
          "output_type": "execute_result",
          "data": {
            "text/html": [
              "<div>\n",
              "<style scoped>\n",
              "    .dataframe tbody tr th:only-of-type {\n",
              "        vertical-align: middle;\n",
              "    }\n",
              "\n",
              "    .dataframe tbody tr th {\n",
              "        vertical-align: top;\n",
              "    }\n",
              "\n",
              "    .dataframe thead th {\n",
              "        text-align: right;\n",
              "    }\n",
              "</style>\n",
              "<table border=\"1\" class=\"dataframe\">\n",
              "  <thead>\n",
              "    <tr style=\"text-align: right;\">\n",
              "      <th></th>\n",
              "      <th>ID</th>\n",
              "      <th>Case</th>\n",
              "    </tr>\n",
              "  </thead>\n",
              "  <tbody>\n",
              "    <tr>\n",
              "      <th>0</th>\n",
              "      <td>1</td>\n",
              "      <td>On behalf of Ms. Amira I would like to ask for your cooperation in tracing her biological mother...</td>\n",
              "    </tr>\n",
              "    <tr>\n",
              "      <th>1</th>\n",
              "      <td>2</td>\n",
              "      <td>The following information has been supplied by the Youth Welfare Office in Berlin The Social Wor...</td>\n",
              "    </tr>\n",
              "    <tr>\n",
              "      <th>2</th>\n",
              "      <td>3</td>\n",
              "      <td>I hope you all are well and sane in these challenging times. I kindly ask you for your support i...</td>\n",
              "    </tr>\n",
              "    <tr>\n",
              "      <th>3</th>\n",
              "      <td>4</td>\n",
              "      <td>The child protection office in Beirut, Lebanon, requests ISS assistance regarding a 6-year-old S...</td>\n",
              "    </tr>\n",
              "    <tr>\n",
              "      <th>4</th>\n",
              "      <td>5</td>\n",
              "      <td>I am writing from Children and Families Across Borders, UK, to request your assistance on this c...</td>\n",
              "    </tr>\n",
              "  </tbody>\n",
              "</table>\n",
              "</div>"
            ],
            "text/plain": [
              "   ID                                                                                                 Case\n",
              "0   1  On behalf of Ms. Amira I would like to ask for your cooperation in tracing her biological mother...\n",
              "1   2  The following information has been supplied by the Youth Welfare Office in Berlin The Social Wor...\n",
              "2   3  I hope you all are well and sane in these challenging times. I kindly ask you for your support i...\n",
              "3   4  The child protection office in Beirut, Lebanon, requests ISS assistance regarding a 6-year-old S...\n",
              "4   5  I am writing from Children and Families Across Borders, UK, to request your assistance on this c..."
            ]
          },
          "metadata": {
            "tags": []
          },
          "execution_count": 41
        }
      ]
    },
    {
      "cell_type": "code",
      "metadata": {
        "id": "k0dQCWSm8KC2",
        "outputId": "7dc8c034-69b8-4a95-e72d-0100b0964c5e",
        "colab": {
          "base_uri": "https://localhost:8080/"
        }
      },
      "source": [
        "import nltk\n",
        "nltk.download('vader_lexicon')"
      ],
      "execution_count": 42,
      "outputs": [
        {
          "output_type": "stream",
          "text": [
            "[nltk_data] Downloading package vader_lexicon to /root/nltk_data...\n",
            "[nltk_data]   Package vader_lexicon is already up-to-date!\n"
          ],
          "name": "stdout"
        },
        {
          "output_type": "execute_result",
          "data": {
            "text/plain": [
              "True"
            ]
          },
          "metadata": {
            "tags": []
          },
          "execution_count": 42
        }
      ]
    },
    {
      "cell_type": "code",
      "metadata": {
        "id": "CtrmAOfK8KC7"
      },
      "source": [
        "# Calculate Polarity scores\n",
        "# nltk.download('vader_lexicon')\n",
        "\n",
        "sid = SentimentIntensityAnalyzer()\n",
        "def createPolarity(sentence):\n",
        "    ss = sid.polarity_scores(sentence)\n",
        "    return ss"
      ],
      "execution_count": 43,
      "outputs": []
    },
    {
      "cell_type": "code",
      "metadata": {
        "id": "_HbjwcrF8KC-"
      },
      "source": [
        "Data[\"sentiment\"] = Data[\"Case\"].apply(lambda x: createPolarity(x) )"
      ],
      "execution_count": 44,
      "outputs": []
    },
    {
      "cell_type": "code",
      "metadata": {
        "id": "o8M2OoxI8KDD",
        "outputId": "23bff01c-8420-4d68-f470-e84426589846",
        "colab": {
          "base_uri": "https://localhost:8080/",
          "height": 204
        }
      },
      "source": [
        "df = Data[[\"Case\", \"sentiment\"]]\n",
        "df.head()"
      ],
      "execution_count": 45,
      "outputs": [
        {
          "output_type": "execute_result",
          "data": {
            "text/html": [
              "<div>\n",
              "<style scoped>\n",
              "    .dataframe tbody tr th:only-of-type {\n",
              "        vertical-align: middle;\n",
              "    }\n",
              "\n",
              "    .dataframe tbody tr th {\n",
              "        vertical-align: top;\n",
              "    }\n",
              "\n",
              "    .dataframe thead th {\n",
              "        text-align: right;\n",
              "    }\n",
              "</style>\n",
              "<table border=\"1\" class=\"dataframe\">\n",
              "  <thead>\n",
              "    <tr style=\"text-align: right;\">\n",
              "      <th></th>\n",
              "      <th>Case</th>\n",
              "      <th>sentiment</th>\n",
              "    </tr>\n",
              "  </thead>\n",
              "  <tbody>\n",
              "    <tr>\n",
              "      <th>0</th>\n",
              "      <td>On behalf of Ms. Amira I would like to ask for your cooperation in tracing her biological mother...</td>\n",
              "      <td>{'neg': 0.053, 'neu': 0.895, 'pos': 0.053, 'compound': -0.2205}</td>\n",
              "    </tr>\n",
              "    <tr>\n",
              "      <th>1</th>\n",
              "      <td>The following information has been supplied by the Youth Welfare Office in Berlin The Social Wor...</td>\n",
              "      <td>{'neg': 0.044, 'neu': 0.902, 'pos': 0.055, 'compound': 0.9416}</td>\n",
              "    </tr>\n",
              "    <tr>\n",
              "      <th>2</th>\n",
              "      <td>I hope you all are well and sane in these challenging times. I kindly ask you for your support i...</td>\n",
              "      <td>{'neg': 0.046, 'neu': 0.882, 'pos': 0.072, 'compound': 0.9065}</td>\n",
              "    </tr>\n",
              "    <tr>\n",
              "      <th>3</th>\n",
              "      <td>The child protection office in Beirut, Lebanon, requests ISS assistance regarding a 6-year-old S...</td>\n",
              "      <td>{'neg': 0.07, 'neu': 0.871, 'pos': 0.059, 'compound': -0.9536}</td>\n",
              "    </tr>\n",
              "    <tr>\n",
              "      <th>4</th>\n",
              "      <td>I am writing from Children and Families Across Borders, UK, to request your assistance on this c...</td>\n",
              "      <td>{'neg': 0.033, 'neu': 0.856, 'pos': 0.111, 'compound': 0.9988}</td>\n",
              "    </tr>\n",
              "  </tbody>\n",
              "</table>\n",
              "</div>"
            ],
            "text/plain": [
              "                                                                                                  Case                                                        sentiment\n",
              "0  On behalf of Ms. Amira I would like to ask for your cooperation in tracing her biological mother...  {'neg': 0.053, 'neu': 0.895, 'pos': 0.053, 'compound': -0.2205}\n",
              "1  The following information has been supplied by the Youth Welfare Office in Berlin The Social Wor...   {'neg': 0.044, 'neu': 0.902, 'pos': 0.055, 'compound': 0.9416}\n",
              "2  I hope you all are well and sane in these challenging times. I kindly ask you for your support i...   {'neg': 0.046, 'neu': 0.882, 'pos': 0.072, 'compound': 0.9065}\n",
              "3  The child protection office in Beirut, Lebanon, requests ISS assistance regarding a 6-year-old S...   {'neg': 0.07, 'neu': 0.871, 'pos': 0.059, 'compound': -0.9536}\n",
              "4  I am writing from Children and Families Across Borders, UK, to request your assistance on this c...   {'neg': 0.033, 'neu': 0.856, 'pos': 0.111, 'compound': 0.9988}"
            ]
          },
          "metadata": {
            "tags": []
          },
          "execution_count": 45
        }
      ]
    },
    {
      "cell_type": "code",
      "metadata": {
        "id": "OyqS1VNN8KDH",
        "outputId": "7455b1f4-0e96-4f07-9adc-cca245608053",
        "colab": {
          "base_uri": "https://localhost:8080/"
        }
      },
      "source": [
        "df.dtypes"
      ],
      "execution_count": 46,
      "outputs": [
        {
          "output_type": "execute_result",
          "data": {
            "text/plain": [
              "Case         object\n",
              "sentiment    object\n",
              "dtype: object"
            ]
          },
          "metadata": {
            "tags": []
          },
          "execution_count": 46
        }
      ]
    },
    {
      "cell_type": "markdown",
      "metadata": {
        "id": "SpcxJySw8KDK"
      },
      "source": [
        "#Breaking this series into 4 different columns - neg, neu, pos and compound\n",
        "df['compound']  = df['sentiment'].apply(lambda score_dict: score_dict['compound'])\n",
        "df['Negative']  = df['sentiment'].apply(lambda score_dict: score_dict['neg'])\n",
        "df['Positive']  = df['sentiment'].apply(lambda score_dict: score_dict['pos'])\n",
        "df['Neutral']  = df['sentiment'].apply(lambda score_dict: score_dict['neu'])\n",
        "\n",
        "df.head()"
      ]
    },
    {
      "cell_type": "code",
      "metadata": {
        "id": "9ophawjd8KDL"
      },
      "source": [
        "#On the basis of compound column, we will create a new column Final Sentiment\n",
        "def analyze_sentiment_vader_lexicon(review):\n",
        "   \n",
        "    # analyze the sentiment for review\n",
        "    analyzer = SentimentIntensityAnalyzer()\n",
        "    scores = analyzer.polarity_scores(review)\n",
        "    # get aggregate scores and final sentiment\n",
        "    agg_score = scores['compound']\n",
        "    #sentiment_Vader = 'positive' if agg_score >= threshold\\\n",
        "     #                              else 'negative'\n",
        "    \n",
        "    if(agg_score >= 0.05):\n",
        "        sentiment_Vader = 'positive'\n",
        "    elif(agg_score <= -0.05):\n",
        "        sentiment_Vader = 'negative'\n",
        "    else:\n",
        "        sentiment_Vader = 'neutral'\n",
        "      \n",
        "    \n",
        "    return sentiment_Vader \n",
        "#or 1 liner\n",
        "#df['sentiment_Vader'] = df['compound'].apply(lambda x: 'positive' if x > 0.1 else 'negative')"
      ],
      "execution_count": 47,
      "outputs": []
    },
    {
      "cell_type": "code",
      "metadata": {
        "id": "apmKJ0So8KDO"
      },
      "source": [
        "df[\"sentiment_Vader\"] = df[\"Case\"].apply(lambda x: analyze_sentiment_vader_lexicon(x) )"
      ],
      "execution_count": 48,
      "outputs": []
    },
    {
      "cell_type": "code",
      "metadata": {
        "id": "esH4cBRD8KDR",
        "outputId": "bb9ef42e-9224-482e-c5c9-3b1eead68f31",
        "colab": {
          "base_uri": "https://localhost:8080/",
          "height": 979
        }
      },
      "source": [
        "# to display more of the text content\n",
        "pd.set_option('display.max_colwidth', 100)\n",
        "\n",
        "df.head(30)"
      ],
      "execution_count": 49,
      "outputs": [
        {
          "output_type": "execute_result",
          "data": {
            "text/html": [
              "<div>\n",
              "<style scoped>\n",
              "    .dataframe tbody tr th:only-of-type {\n",
              "        vertical-align: middle;\n",
              "    }\n",
              "\n",
              "    .dataframe tbody tr th {\n",
              "        vertical-align: top;\n",
              "    }\n",
              "\n",
              "    .dataframe thead th {\n",
              "        text-align: right;\n",
              "    }\n",
              "</style>\n",
              "<table border=\"1\" class=\"dataframe\">\n",
              "  <thead>\n",
              "    <tr style=\"text-align: right;\">\n",
              "      <th></th>\n",
              "      <th>Case</th>\n",
              "      <th>sentiment</th>\n",
              "      <th>sentiment_Vader</th>\n",
              "    </tr>\n",
              "  </thead>\n",
              "  <tbody>\n",
              "    <tr>\n",
              "      <th>0</th>\n",
              "      <td>On behalf of Ms. Amira I would like to ask for your cooperation in tracing her biological mother...</td>\n",
              "      <td>{'neg': 0.053, 'neu': 0.895, 'pos': 0.053, 'compound': -0.2205}</td>\n",
              "      <td>negative</td>\n",
              "    </tr>\n",
              "    <tr>\n",
              "      <th>1</th>\n",
              "      <td>The following information has been supplied by the Youth Welfare Office in Berlin The Social Wor...</td>\n",
              "      <td>{'neg': 0.044, 'neu': 0.902, 'pos': 0.055, 'compound': 0.9416}</td>\n",
              "      <td>positive</td>\n",
              "    </tr>\n",
              "    <tr>\n",
              "      <th>2</th>\n",
              "      <td>I hope you all are well and sane in these challenging times. I kindly ask you for your support i...</td>\n",
              "      <td>{'neg': 0.046, 'neu': 0.882, 'pos': 0.072, 'compound': 0.9065}</td>\n",
              "      <td>positive</td>\n",
              "    </tr>\n",
              "    <tr>\n",
              "      <th>3</th>\n",
              "      <td>The child protection office in Beirut, Lebanon, requests ISS assistance regarding a 6-year-old S...</td>\n",
              "      <td>{'neg': 0.07, 'neu': 0.871, 'pos': 0.059, 'compound': -0.9536}</td>\n",
              "      <td>negative</td>\n",
              "    </tr>\n",
              "    <tr>\n",
              "      <th>4</th>\n",
              "      <td>I am writing from Children and Families Across Borders, UK, to request your assistance on this c...</td>\n",
              "      <td>{'neg': 0.033, 'neu': 0.856, 'pos': 0.111, 'compound': 0.9988}</td>\n",
              "      <td>positive</td>\n",
              "    </tr>\n",
              "    <tr>\n",
              "      <th>5</th>\n",
              "      <td>Ms SD, a German national, contacted ISS Germany looking for her father she had never met and who...</td>\n",
              "      <td>{'neg': 0.019, 'neu': 0.91, 'pos': 0.071, 'compound': 0.7354}</td>\n",
              "      <td>positive</td>\n",
              "    </tr>\n",
              "    <tr>\n",
              "      <th>6</th>\n",
              "      <td>Jose was deported from the USA to his homeland in Mexico, leaving behind his wife, Mariel and th...</td>\n",
              "      <td>{'neg': 0.0, 'neu': 0.835, 'pos': 0.165, 'compound': 0.9903}</td>\n",
              "      <td>positive</td>\n",
              "    </tr>\n",
              "    <tr>\n",
              "      <th>7</th>\n",
              "      <td>Karim (6) and Ziad (8) are the sons of two divorced Lebanese nationals. The father remarried a L...</td>\n",
              "      <td>{'neg': 0.026, 'neu': 0.875, 'pos': 0.099, 'compound': 0.926}</td>\n",
              "      <td>positive</td>\n",
              "    </tr>\n",
              "    <tr>\n",
              "      <th>8</th>\n",
              "      <td>Children from Guinea Bissau, who under the pretext of being drought by Koranic Masters to learn ...</td>\n",
              "      <td>{'neg': 0.022, 'neu': 0.871, 'pos': 0.107, 'compound': 0.872}</td>\n",
              "      <td>positive</td>\n",
              "    </tr>\n",
              "    <tr>\n",
              "      <th>9</th>\n",
              "      <td>Mary Jackson (not her real name) is a 15 year old girl with a very strong passion for education ...</td>\n",
              "      <td>{'neg': 0.065, 'neu': 0.839, 'pos': 0.096, 'compound': 0.8144}</td>\n",
              "      <td>positive</td>\n",
              "    </tr>\n",
              "    <tr>\n",
              "      <th>10</th>\n",
              "      <td>Ireen (not her real name), aged 14 years, a Grade 7 pupil, was defiled at one of the Rice Mills ...</td>\n",
              "      <td>{'neg': 0.132, 'neu': 0.82, 'pos': 0.048, 'compound': -0.9909}</td>\n",
              "      <td>negative</td>\n",
              "    </tr>\n",
              "    <tr>\n",
              "      <th>11</th>\n",
              "      <td>Luhanga, age 8, is doing well in school and hopes to attend university someday. Everyone tells h...</td>\n",
              "      <td>{'neg': 0.049, 'neu': 0.846, 'pos': 0.105, 'compound': 0.9259}</td>\n",
              "      <td>positive</td>\n",
              "    </tr>\n",
              "    <tr>\n",
              "      <th>12</th>\n",
              "      <td>Mercy is 11 years old and had hopes of becoming a teacher. Indeed she was a bright student and a...</td>\n",
              "      <td>{'neg': 0.095, 'neu': 0.811, 'pos': 0.093, 'compound': -0.5851}</td>\n",
              "      <td>negative</td>\n",
              "    </tr>\n",
              "    <tr>\n",
              "      <th>13</th>\n",
              "      <td>Chiwaya is a 9 year boy who is bright and healthy. He has three younger siblings aged 7 (Banda),...</td>\n",
              "      <td>{'neg': 0.056, 'neu': 0.824, 'pos': 0.12, 'compound': 0.9408}</td>\n",
              "      <td>positive</td>\n",
              "    </tr>\n",
              "    <tr>\n",
              "      <th>14</th>\n",
              "      <td>Tadala is second born in a family of four and lives with her single mother, a subsistence farmer...</td>\n",
              "      <td>{'neg': 0.142, 'neu': 0.812, 'pos': 0.046, 'compound': -0.9349}</td>\n",
              "      <td>negative</td>\n",
              "    </tr>\n",
              "    <tr>\n",
              "      <th>15</th>\n",
              "      <td>Jafar â Hazara, Kabul Kabul. Destination Netherlands and deported from Iran. Family and child ...</td>\n",
              "      <td>{'neg': 0.049, 'neu': 0.902, 'pos': 0.048, 'compound': -0.3182}</td>\n",
              "      <td>negative</td>\n",
              "    </tr>\n",
              "    <tr>\n",
              "      <th>16</th>\n",
              "      <td>As a young child, Daud was entrusted to a marabout by his mother, but ran away from the daÃ¢ra d...</td>\n",
              "      <td>{'neg': 0.128, 'neu': 0.751, 'pos': 0.121, 'compound': -0.6321}</td>\n",
              "      <td>negative</td>\n",
              "    </tr>\n",
              "    <tr>\n",
              "      <th>17</th>\n",
              "      <td>Joseph, 13, lived with his uncle, a military commander in Juba while attending primary school cl...</td>\n",
              "      <td>{'neg': 0.051, 'neu': 0.856, 'pos': 0.093, 'compound': 0.8591}</td>\n",
              "      <td>positive</td>\n",
              "    </tr>\n",
              "    <tr>\n",
              "      <th>18</th>\n",
              "      <td>Destination Italy and deported from Turkey. Father made decision because no education or job pro...</td>\n",
              "      <td>{'neg': 0.091, 'neu': 0.854, 'pos': 0.056, 'compound': -0.9584}</td>\n",
              "      <td>negative</td>\n",
              "    </tr>\n",
              "    <tr>\n",
              "      <th>19</th>\n",
              "      <td>Mira is from Kaolack, in Senegal, but her mother (separated from her father) lives in Dakar with...</td>\n",
              "      <td>{'neg': 0.047, 'neu': 0.899, 'pos': 0.054, 'compound': -0.0772}</td>\n",
              "      <td>negative</td>\n",
              "    </tr>\n",
              "    <tr>\n",
              "      <th>20</th>\n",
              "      <td>Wahdat Samsor â Pashtun, Kabul Kabul. Destination UK, 14 year old brother killed at Nimroz bor...</td>\n",
              "      <td>{'neg': 0.097, 'neu': 0.877, 'pos': 0.026, 'compound': -0.9948}</td>\n",
              "      <td>negative</td>\n",
              "    </tr>\n",
              "    <tr>\n",
              "      <th>21</th>\n",
              "      <td>Amie is a 13-year old girl from Bamako, in Mali, who has been living in Burkina Faso for two mon...</td>\n",
              "      <td>{'neg': 0.058, 'neu': 0.889, 'pos': 0.053, 'compound': 0.3859}</td>\n",
              "      <td>positive</td>\n",
              "    </tr>\n",
              "    <tr>\n",
              "      <th>22</th>\n",
              "      <td>Ahmad - Hazara. Kabul Kabul family has younger brother in Norway. Child made decision with fathe...</td>\n",
              "      <td>{'neg': 0.07, 'neu': 0.882, 'pos': 0.048, 'compound': -0.9332}</td>\n",
              "      <td>negative</td>\n",
              "    </tr>\n",
              "    <tr>\n",
              "      <th>23</th>\n",
              "      <td>Qurban and Jan Ali - Hazara, Kabul One son living in UK and second son living in Sweden. Childre...</td>\n",
              "      <td>{'neg': 0.037, 'neu': 0.935, 'pos': 0.028, 'compound': -0.1989}</td>\n",
              "      <td>negative</td>\n",
              "    </tr>\n",
              "    <tr>\n",
              "      <th>24</th>\n",
              "      <td>Jamal - Tajik, Mazar-i-Sharif Living in Sweden. Father made decision to go for employment and fi...</td>\n",
              "      <td>{'neg': 0.016, 'neu': 0.889, 'pos': 0.095, 'compound': 0.9509}</td>\n",
              "      <td>positive</td>\n",
              "    </tr>\n",
              "    <tr>\n",
              "      <th>25</th>\n",
              "      <td>Nesar - Pashtun, Nangarhar Planned destination was \"another country\". Departed Afghanistan becau...</td>\n",
              "      <td>{'neg': 0.054, 'neu': 0.924, 'pos': 0.023, 'compound': -0.9741}</td>\n",
              "      <td>negative</td>\n",
              "    </tr>\n",
              "    <tr>\n",
              "      <th>26</th>\n",
              "      <td>Atal - Pashtun, Kabul Departed Afghanistan because police and 'family friends' wanted to harm hi...</td>\n",
              "      <td>{'neg': 0.078, 'neu': 0.872, 'pos': 0.049, 'compound': -0.9768}</td>\n",
              "      <td>negative</td>\n",
              "    </tr>\n",
              "    <tr>\n",
              "      <th>27</th>\n",
              "      <td>Hewad - Pashtun, Kabul Maternal uncle made decision because the Taliban wanted him to join. Dest...</td>\n",
              "      <td>{'neg': 0.076, 'neu': 0.89, 'pos': 0.033, 'compound': -0.96}</td>\n",
              "      <td>negative</td>\n",
              "    </tr>\n",
              "    <tr>\n",
              "      <th>28</th>\n",
              "      <td>Maiwand - Pashtun, Baghram Organised by maternal uncle because he had problems with the Taliban ...</td>\n",
              "      <td>{'neg': 0.095, 'neu': 0.905, 'pos': 0.0, 'compound': -0.981}</td>\n",
              "      <td>negative</td>\n",
              "    </tr>\n",
              "    <tr>\n",
              "      <th>29</th>\n",
              "      <td>Khaibar - Pashtun, Jalalabad Organised by maternal uncle. Made decision because the Taliban want...</td>\n",
              "      <td>{'neg': 0.079, 'neu': 0.881, 'pos': 0.04, 'compound': -0.9386}</td>\n",
              "      <td>negative</td>\n",
              "    </tr>\n",
              "  </tbody>\n",
              "</table>\n",
              "</div>"
            ],
            "text/plain": [
              "                                                                                                   Case  ... sentiment_Vader\n",
              "0   On behalf of Ms. Amira I would like to ask for your cooperation in tracing her biological mother...  ...        negative\n",
              "1   The following information has been supplied by the Youth Welfare Office in Berlin The Social Wor...  ...        positive\n",
              "2   I hope you all are well and sane in these challenging times. I kindly ask you for your support i...  ...        positive\n",
              "3   The child protection office in Beirut, Lebanon, requests ISS assistance regarding a 6-year-old S...  ...        negative\n",
              "4   I am writing from Children and Families Across Borders, UK, to request your assistance on this c...  ...        positive\n",
              "5   Ms SD, a German national, contacted ISS Germany looking for her father she had never met and who...  ...        positive\n",
              "6   Jose was deported from the USA to his homeland in Mexico, leaving behind his wife, Mariel and th...  ...        positive\n",
              "7   Karim (6) and Ziad (8) are the sons of two divorced Lebanese nationals. The father remarried a L...  ...        positive\n",
              "8   Children from Guinea Bissau, who under the pretext of being drought by Koranic Masters to learn ...  ...        positive\n",
              "9   Mary Jackson (not her real name) is a 15 year old girl with a very strong passion for education ...  ...        positive\n",
              "10  Ireen (not her real name), aged 14 years, a Grade 7 pupil, was defiled at one of the Rice Mills ...  ...        negative\n",
              "11  Luhanga, age 8, is doing well in school and hopes to attend university someday. Everyone tells h...  ...        positive\n",
              "12  Mercy is 11 years old and had hopes of becoming a teacher. Indeed she was a bright student and a...  ...        negative\n",
              "13  Chiwaya is a 9 year boy who is bright and healthy. He has three younger siblings aged 7 (Banda),...  ...        positive\n",
              "14  Tadala is second born in a family of four and lives with her single mother, a subsistence farmer...  ...        negative\n",
              "15  Jafar â Hazara, Kabul Kabul. Destination Netherlands and deported from Iran. Family and child ...  ...        negative\n",
              "16  As a young child, Daud was entrusted to a marabout by his mother, but ran away from the daÃ¢ra d...  ...        negative\n",
              "17  Joseph, 13, lived with his uncle, a military commander in Juba while attending primary school cl...  ...        positive\n",
              "18  Destination Italy and deported from Turkey. Father made decision because no education or job pro...  ...        negative\n",
              "19  Mira is from Kaolack, in Senegal, but her mother (separated from her father) lives in Dakar with...  ...        negative\n",
              "20  Wahdat Samsor â Pashtun, Kabul Kabul. Destination UK, 14 year old brother killed at Nimroz bor...  ...        negative\n",
              "21  Amie is a 13-year old girl from Bamako, in Mali, who has been living in Burkina Faso for two mon...  ...        positive\n",
              "22  Ahmad - Hazara. Kabul Kabul family has younger brother in Norway. Child made decision with fathe...  ...        negative\n",
              "23  Qurban and Jan Ali - Hazara, Kabul One son living in UK and second son living in Sweden. Childre...  ...        negative\n",
              "24  Jamal - Tajik, Mazar-i-Sharif Living in Sweden. Father made decision to go for employment and fi...  ...        positive\n",
              "25  Nesar - Pashtun, Nangarhar Planned destination was \"another country\". Departed Afghanistan becau...  ...        negative\n",
              "26  Atal - Pashtun, Kabul Departed Afghanistan because police and 'family friends' wanted to harm hi...  ...        negative\n",
              "27  Hewad - Pashtun, Kabul Maternal uncle made decision because the Taliban wanted him to join. Dest...  ...        negative\n",
              "28  Maiwand - Pashtun, Baghram Organised by maternal uncle because he had problems with the Taliban ...  ...        negative\n",
              "29  Khaibar - Pashtun, Jalalabad Organised by maternal uncle. Made decision because the Taliban want...  ...        negative\n",
              "\n",
              "[30 rows x 3 columns]"
            ]
          },
          "metadata": {
            "tags": []
          },
          "execution_count": 49
        }
      ]
    },
    {
      "cell_type": "markdown",
      "metadata": {
        "id": "Wq3CVN2f8KDV"
      },
      "source": [
        "df.to_csv(\"sentimentAnalysis.csv\")"
      ]
    },
    {
      "cell_type": "code",
      "metadata": {
        "id": "PScIJKZs8KDW",
        "outputId": "73ad0821-d46f-4a11-c2b2-6462f735a2ca",
        "colab": {
          "base_uri": "https://localhost:8080/"
        }
      },
      "source": [
        "#Total number of different actual sentiments\n",
        "actualNeg = len(df[df['sentiment_Vader']=='negative'])\n",
        "actualPos = len(df[df['sentiment_Vader']=='positive'])\n",
        "actualNeu = len(df[df['sentiment_Vader']=='neutral'])\n",
        "print(\"Number of positive sentiments is  \" + str(actualPos))\n",
        "print(\"Number of negative sentiments is \" + str(actualNeg))\n",
        "print(\"Number of neutral sentiments is \" + str(actualNeu))\n"
      ],
      "execution_count": 50,
      "outputs": [
        {
          "output_type": "stream",
          "text": [
            "Number of positive sentiments is  59\n",
            "Number of negative sentiments is 156\n",
            "Number of neutral sentiments is 1\n"
          ],
          "name": "stdout"
        }
      ]
    },
    {
      "cell_type": "code",
      "metadata": {
        "id": "u9_p-rCT8KDZ",
        "outputId": "707adc1f-4cea-4763-f660-8f1cdf86bc1f",
        "colab": {
          "base_uri": "https://localhost:8080/",
          "height": 352
        }
      },
      "source": [
        "import matplotlib.pyplot as plt\n",
        "import seaborn as sns\n",
        "plt.figure(figsize=(10,5))\n",
        "sns.countplot(x='sentiment_Vader',data=df)"
      ],
      "execution_count": 51,
      "outputs": [
        {
          "output_type": "execute_result",
          "data": {
            "text/plain": [
              "<matplotlib.axes._subplots.AxesSubplot at 0x7ff0e6b36e48>"
            ]
          },
          "metadata": {
            "tags": []
          },
          "execution_count": 51
        },
        {
          "output_type": "display_data",
          "data": {
            "image/png": "[encoded data removed]",
            "text/plain": [
              "<Figure size 720x360 with 1 Axes>"
            ]
          },
          "metadata": {
            "tags": [],
            "needs_background": "light"
          }
        }
      ]
    },
    {
      "cell_type": "code",
      "metadata": {
        "id": "mRQmk-OG8KDd",
        "outputId": "cd218089-11c9-4410-8383-6f38f50610b2",
        "colab": {
          "base_uri": "https://localhost:8080/",
          "height": 103
        }
      },
      "source": [
        "#Count of texts in each category of sentiments\n",
        "temp = df.groupby('sentiment_Vader').count()['Case'].reset_index().sort_values(by='Case',ascending=False)\n",
        "temp.style.background_gradient(cmap='Greens')"
      ],
      "execution_count": 52,
      "outputs": [
        {
          "output_type": "execute_result",
          "data": {
            "text/html": [
              "<style  type=\"text/css\" >\n",
              "#T_fccbc838_22fe_11eb_86b4_0242ac1c0002row0_col1{\n",
              "            background-color:  #00441b;\n",
              "            color:  #f1f1f1;\n",
              "        }#T_fccbc838_22fe_11eb_86b4_0242ac1c0002row1_col1{\n",
              "            background-color:  #a2d99c;\n",
              "            color:  #000000;\n",
              "        }#T_fccbc838_22fe_11eb_86b4_0242ac1c0002row2_col1{\n",
              "            background-color:  #f7fcf5;\n",
              "            color:  #000000;\n",
              "        }</style><table id=\"T_fccbc838_22fe_11eb_86b4_0242ac1c0002\" ><thead>    <tr>        <th class=\"blank level0\" ></th>        <th class=\"col_heading level0 col0\" >sentiment_Vader</th>        <th class=\"col_heading level0 col1\" >Case</th>    </tr></thead><tbody>\n",
              "                <tr>\n",
              "                        <th id=\"T_fccbc838_22fe_11eb_86b4_0242ac1c0002level0_row0\" class=\"row_heading level0 row0\" >0</th>\n",
              "                        <td id=\"T_fccbc838_22fe_11eb_86b4_0242ac1c0002row0_col0\" class=\"data row0 col0\" >negative</td>\n",
              "                        <td id=\"T_fccbc838_22fe_11eb_86b4_0242ac1c0002row0_col1\" class=\"data row0 col1\" >156</td>\n",
              "            </tr>\n",
              "            <tr>\n",
              "                        <th id=\"T_fccbc838_22fe_11eb_86b4_0242ac1c0002level0_row1\" class=\"row_heading level0 row1\" >2</th>\n",
              "                        <td id=\"T_fccbc838_22fe_11eb_86b4_0242ac1c0002row1_col0\" class=\"data row1 col0\" >positive</td>\n",
              "                        <td id=\"T_fccbc838_22fe_11eb_86b4_0242ac1c0002row1_col1\" class=\"data row1 col1\" >59</td>\n",
              "            </tr>\n",
              "            <tr>\n",
              "                        <th id=\"T_fccbc838_22fe_11eb_86b4_0242ac1c0002level0_row2\" class=\"row_heading level0 row2\" >1</th>\n",
              "                        <td id=\"T_fccbc838_22fe_11eb_86b4_0242ac1c0002row2_col0\" class=\"data row2 col0\" >neutral</td>\n",
              "                        <td id=\"T_fccbc838_22fe_11eb_86b4_0242ac1c0002row2_col1\" class=\"data row2 col1\" >1</td>\n",
              "            </tr>\n",
              "    </tbody></table>"
            ],
            "text/plain": [
              "<pandas.io.formats.style.Styler at 0x7ff05f13cf60>"
            ]
          },
          "metadata": {
            "tags": []
          },
          "execution_count": 52
        }
      ]
    },
    {
      "cell_type": "code",
      "metadata": {
        "id": "eHm3f4K28KDh",
        "outputId": "70f0755a-7c71-47a2-aaaf-d0efd9ab3f46",
        "colab": {
          "base_uri": "https://localhost:8080/",
          "height": 542
        }
      },
      "source": [
        "#funnel chart for visualization\n",
        "from plotly import graph_objs as go\n",
        "import plotly.figure_factory as ff\n",
        "\n",
        "fig = go.Figure(go.Funnelarea(\n",
        "    text =temp.sentiment_Vader,\n",
        "    values = temp.Case,\n",
        "    title = {\"position\": \"top center\", \"text\": \"Funnel-Chart of VADER Sentiment Distribution\"}\n",
        "    ))\n",
        "fig.show()"
      ],
      "execution_count": 53,
      "outputs": [
        {
          "output_type": "display_data",
          "data": {
            "text/html": [
              "<html>\n",
              "<head><meta charset=\"utf-8\" /></head>\n",
              "<body>\n",
              "    <div>\n",
              "            <script src=\"https://cdnjs.cloudflare.com/ajax/libs/mathjax/2.7.5/MathJax.js?config=TeX-AMS-MML_SVG\"></script><script type=\"text/javascript\">if (window.MathJax) {MathJax.Hub.Config({SVG: {font: \"STIX-Web\"}});}</script>\n",
              "                <script type=\"text/javascript\">window.PlotlyConfig = {MathJaxConfig: 'local'};</script>\n",
              "        <script src=\"https://cdn.plot.ly/plotly-latest.min.js\"></script>    \n",
              "            <div id=\"361918ce-3be4-4e24-91e0-cc07e07572a1\" class=\"plotly-graph-div\" style=\"height:525px; width:100%;\"></div>\n",
              "            <script type=\"text/javascript\">\n",
              "                \n",
              "                    window.PLOTLYENV=window.PLOTLYENV || {};\n",
              "                    \n",
              "                if (document.getElementById(\"361918ce-3be4-4e24-91e0-cc07e07572a1\")) {\n",
              "                    Plotly.newPlot(\n",
              "                        '361918ce-3be4-4e24-91e0-cc07e07572a1',\n",
              "                        [{\"text\": [\"negative\", \"positive\", \"neutral\"], \"title\": {\"position\": \"top center\", \"text\": \"Funnel-Chart of VADER Sentiment Distribution\"}, \"type\": \"funnelarea\", \"values\": [156, 59, 1]}],\n",
              "                        {\"template\": {\"data\": {\"bar\": [{\"error_x\": {\"color\": \"#2a3f5f\"}, \"error_y\": {\"color\": \"#2a3f5f\"}, \"marker\": {\"line\": {\"color\": \"#E5ECF6\", \"width\": 0.5}}, \"type\": \"bar\"}], \"barpolar\": [{\"marker\": {\"line\": {\"color\": \"#E5ECF6\", \"width\": 0.5}}, \"type\": \"barpolar\"}], \"carpet\": [{\"aaxis\": {\"endlinecolor\": \"#2a3f5f\", \"gridcolor\": \"white\", \"linecolor\": \"white\", \"minorgridcolor\": \"white\", \"startlinecolor\": \"#2a3f5f\"}, \"baxis\": {\"endlinecolor\": \"#2a3f5f\", \"gridcolor\": \"white\", \"linecolor\": \"white\", \"minorgridcolor\": \"white\", \"startlinecolor\": \"#2a3f5f\"}, \"type\": \"carpet\"}], \"choropleth\": [{\"colorbar\": {\"outlinewidth\": 0, \"ticks\": \"\"}, \"type\": \"choropleth\"}], \"contour\": [{\"colorbar\": {\"outlinewidth\": 0, \"ticks\": \"\"}, \"colorscale\": [[0.0, \"#0d0887\"], [0.1111111111111111, \"#46039f\"], [0.2222222222222222, \"#7201a8\"], [0.3333333333333333, \"#9c179e\"], [0.4444444444444444, \"#bd3786\"], [0.5555555555555556, \"#d8576b\"], [0.6666666666666666, \"#ed7953\"], [0.7777777777777778, \"#fb9f3a\"], [0.8888888888888888, \"#fdca26\"], [1.0, \"#f0f921\"]], \"type\": \"contour\"}], \"contourcarpet\": [{\"colorbar\": {\"outlinewidth\": 0, \"ticks\": \"\"}, \"type\": \"contourcarpet\"}], \"heatmap\": [{\"colorbar\": {\"outlinewidth\": 0, \"ticks\": \"\"}, \"colorscale\": [[0.0, \"#0d0887\"], [0.1111111111111111, \"#46039f\"], [0.2222222222222222, \"#7201a8\"], [0.3333333333333333, \"#9c179e\"], [0.4444444444444444, \"#bd3786\"], [0.5555555555555556, \"#d8576b\"], [0.6666666666666666, \"#ed7953\"], [0.7777777777777778, \"#fb9f3a\"], [0.8888888888888888, \"#fdca26\"], [1.0, \"#f0f921\"]], \"type\": \"heatmap\"}], \"heatmapgl\": [{\"colorbar\": {\"outlinewidth\": 0, \"ticks\": \"\"}, \"colorscale\": [[0.0, \"#0d0887\"], [0.1111111111111111, \"#46039f\"], [0.2222222222222222, \"#7201a8\"], [0.3333333333333333, \"#9c179e\"], [0.4444444444444444, \"#bd3786\"], [0.5555555555555556, \"#d8576b\"], [0.6666666666666666, \"#ed7953\"], [0.7777777777777778, \"#fb9f3a\"], [0.8888888888888888, \"#fdca26\"], [1.0, \"#f0f921\"]], \"type\": \"heatmapgl\"}], \"histogram\": [{\"marker\": {\"colorbar\": {\"outlinewidth\": 0, \"ticks\": \"\"}}, \"type\": \"histogram\"}], \"histogram2d\": [{\"colorbar\": {\"outlinewidth\": 0, \"ticks\": \"\"}, \"colorscale\": [[0.0, \"#0d0887\"], [0.1111111111111111, \"#46039f\"], [0.2222222222222222, \"#7201a8\"], [0.3333333333333333, \"#9c179e\"], [0.4444444444444444, \"#bd3786\"], [0.5555555555555556, \"#d8576b\"], [0.6666666666666666, \"#ed7953\"], [0.7777777777777778, \"#fb9f3a\"], [0.8888888888888888, \"#fdca26\"], [1.0, \"#f0f921\"]], \"type\": \"histogram2d\"}], \"histogram2dcontour\": [{\"colorbar\": {\"outlinewidth\": 0, \"ticks\": \"\"}, \"colorscale\": [[0.0, \"#0d0887\"], [0.1111111111111111, \"#46039f\"], [0.2222222222222222, \"#7201a8\"], [0.3333333333333333, \"#9c179e\"], [0.4444444444444444, \"#bd3786\"], [0.5555555555555556, \"#d8576b\"], [0.6666666666666666, \"#ed7953\"], [0.7777777777777778, \"#fb9f3a\"], [0.8888888888888888, \"#fdca26\"], [1.0, \"#f0f921\"]], \"type\": \"histogram2dcontour\"}], \"mesh3d\": [{\"colorbar\": {\"outlinewidth\": 0, \"ticks\": \"\"}, \"type\": \"mesh3d\"}], \"parcoords\": [{\"line\": {\"colorbar\": {\"outlinewidth\": 0, \"ticks\": \"\"}}, \"type\": \"parcoords\"}], \"pie\": [{\"automargin\": true, \"type\": \"pie\"}], \"scatter\": [{\"marker\": {\"colorbar\": {\"outlinewidth\": 0, \"ticks\": \"\"}}, \"type\": \"scatter\"}], \"scatter3d\": [{\"line\": {\"colorbar\": {\"outlinewidth\": 0, \"ticks\": \"\"}}, \"marker\": {\"colorbar\": {\"outlinewidth\": 0, \"ticks\": \"\"}}, \"type\": \"scatter3d\"}], \"scattercarpet\": [{\"marker\": {\"colorbar\": {\"outlinewidth\": 0, \"ticks\": \"\"}}, \"type\": \"scattercarpet\"}], \"scattergeo\": [{\"marker\": {\"colorbar\": {\"outlinewidth\": 0, \"ticks\": \"\"}}, \"type\": \"scattergeo\"}], \"scattergl\": [{\"marker\": {\"colorbar\": {\"outlinewidth\": 0, \"ticks\": \"\"}}, \"type\": \"scattergl\"}], \"scattermapbox\": [{\"marker\": {\"colorbar\": {\"outlinewidth\": 0, \"ticks\": \"\"}}, \"type\": \"scattermapbox\"}], \"scatterpolar\": [{\"marker\": {\"colorbar\": {\"outlinewidth\": 0, \"ticks\": \"\"}}, \"type\": \"scatterpolar\"}], \"scatterpolargl\": [{\"marker\": {\"colorbar\": {\"outlinewidth\": 0, \"ticks\": \"\"}}, \"type\": \"scatterpolargl\"}], \"scatterternary\": [{\"marker\": {\"colorbar\": {\"outlinewidth\": 0, \"ticks\": \"\"}}, \"type\": \"scatterternary\"}], \"surface\": [{\"colorbar\": {\"outlinewidth\": 0, \"ticks\": \"\"}, \"colorscale\": [[0.0, \"#0d0887\"], [0.1111111111111111, \"#46039f\"], [0.2222222222222222, \"#7201a8\"], [0.3333333333333333, \"#9c179e\"], [0.4444444444444444, \"#bd3786\"], [0.5555555555555556, \"#d8576b\"], [0.6666666666666666, \"#ed7953\"], [0.7777777777777778, \"#fb9f3a\"], [0.8888888888888888, \"#fdca26\"], [1.0, \"#f0f921\"]], \"type\": \"surface\"}], \"table\": [{\"cells\": {\"fill\": {\"color\": \"#EBF0F8\"}, \"line\": {\"color\": \"white\"}}, \"header\": {\"fill\": {\"color\": \"#C8D4E3\"}, \"line\": {\"color\": \"white\"}}, \"type\": \"table\"}]}, \"layout\": {\"annotationdefaults\": {\"arrowcolor\": \"#2a3f5f\", \"arrowhead\": 0, \"arrowwidth\": 1}, \"coloraxis\": {\"colorbar\": {\"outlinewidth\": 0, \"ticks\": \"\"}}, \"colorscale\": {\"diverging\": [[0, \"#8e0152\"], [0.1, \"#c51b7d\"], [0.2, \"#de77ae\"], [0.3, \"#f1b6da\"], [0.4, \"#fde0ef\"], [0.5, \"#f7f7f7\"], [0.6, \"#e6f5d0\"], [0.7, \"#b8e186\"], [0.8, \"#7fbc41\"], [0.9, \"#4d9221\"], [1, \"#276419\"]], \"sequential\": [[0.0, \"#0d0887\"], [0.1111111111111111, \"#46039f\"], [0.2222222222222222, \"#7201a8\"], [0.3333333333333333, \"#9c179e\"], [0.4444444444444444, \"#bd3786\"], [0.5555555555555556, \"#d8576b\"], [0.6666666666666666, \"#ed7953\"], [0.7777777777777778, \"#fb9f3a\"], [0.8888888888888888, \"#fdca26\"], [1.0, \"#f0f921\"]], \"sequentialminus\": [[0.0, \"#0d0887\"], [0.1111111111111111, \"#46039f\"], [0.2222222222222222, \"#7201a8\"], [0.3333333333333333, \"#9c179e\"], [0.4444444444444444, \"#bd3786\"], [0.5555555555555556, \"#d8576b\"], [0.6666666666666666, \"#ed7953\"], [0.7777777777777778, \"#fb9f3a\"], [0.8888888888888888, \"#fdca26\"], [1.0, \"#f0f921\"]]}, \"colorway\": [\"#636efa\", \"#EF553B\", \"#00cc96\", \"#ab63fa\", \"#FFA15A\", \"#19d3f3\", \"#FF6692\", \"#B6E880\", \"#FF97FF\", \"#FECB52\"], \"font\": {\"color\": \"#2a3f5f\"}, \"geo\": {\"bgcolor\": \"white\", \"lakecolor\": \"white\", \"landcolor\": \"#E5ECF6\", \"showlakes\": true, \"showland\": true, \"subunitcolor\": \"white\"}, \"hoverlabel\": {\"align\": \"left\"}, \"hovermode\": \"closest\", \"mapbox\": {\"style\": \"light\"}, \"paper_bgcolor\": \"white\", \"plot_bgcolor\": \"#E5ECF6\", \"polar\": {\"angularaxis\": {\"gridcolor\": \"white\", \"linecolor\": \"white\", \"ticks\": \"\"}, \"bgcolor\": \"#E5ECF6\", \"radialaxis\": {\"gridcolor\": \"white\", \"linecolor\": \"white\", \"ticks\": \"\"}}, \"scene\": {\"xaxis\": {\"backgroundcolor\": \"#E5ECF6\", \"gridcolor\": \"white\", \"gridwidth\": 2, \"linecolor\": \"white\", \"showbackground\": true, \"ticks\": \"\", \"zerolinecolor\": \"white\"}, \"yaxis\": {\"backgroundcolor\": \"#E5ECF6\", \"gridcolor\": \"white\", \"gridwidth\": 2, \"linecolor\": \"white\", \"showbackground\": true, \"ticks\": \"\", \"zerolinecolor\": \"white\"}, \"zaxis\": {\"backgroundcolor\": \"#E5ECF6\", \"gridcolor\": \"white\", \"gridwidth\": 2, \"linecolor\": \"white\", \"showbackground\": true, \"ticks\": \"\", \"zerolinecolor\": \"white\"}}, \"shapedefaults\": {\"line\": {\"color\": \"#2a3f5f\"}}, \"ternary\": {\"aaxis\": {\"gridcolor\": \"white\", \"linecolor\": \"white\", \"ticks\": \"\"}, \"baxis\": {\"gridcolor\": \"white\", \"linecolor\": \"white\", \"ticks\": \"\"}, \"bgcolor\": \"#E5ECF6\", \"caxis\": {\"gridcolor\": \"white\", \"linecolor\": \"white\", \"ticks\": \"\"}}, \"title\": {\"x\": 0.05}, \"xaxis\": {\"automargin\": true, \"gridcolor\": \"white\", \"linecolor\": \"white\", \"ticks\": \"\", \"title\": {\"standoff\": 15}, \"zerolinecolor\": \"white\", \"zerolinewidth\": 2}, \"yaxis\": {\"automargin\": true, \"gridcolor\": \"white\", \"linecolor\": \"white\", \"ticks\": \"\", \"title\": {\"standoff\": 15}, \"zerolinecolor\": \"white\", \"zerolinewidth\": 2}}}},\n",
              "                        {\"responsive\": true}\n",
              "                    ).then(function(){\n",
              "                            \n",
              "var gd = document.getElementById('361918ce-3be4-4e24-91e0-cc07e07572a1');\n",
              "var x = new MutationObserver(function (mutations, observer) {{\n",
              "        var display = window.getComputedStyle(gd).display;\n",
              "        if (!display || display === 'none') {{\n",
              "            console.log([gd, 'removed!']);\n",
              "            Plotly.purge(gd);\n",
              "            observer.disconnect();\n",
              "        }}\n",
              "}});\n",
              "\n",
              "// Listen for the removal of the full notebook cells\n",
              "var notebookContainer = gd.closest('#notebook-container');\n",
              "if (notebookContainer) {{\n",
              "    x.observe(notebookContainer, {childList: true});\n",
              "}}\n",
              "\n",
              "// Listen for the clearing of the current output cell\n",
              "var outputEl = gd.closest('.output');\n",
              "if (outputEl) {{\n",
              "    x.observe(outputEl, {childList: true});\n",
              "}}\n",
              "\n",
              "                        })\n",
              "                };\n",
              "                \n",
              "            </script>\n",
              "        </div>\n",
              "</body>\n",
              "</html>"
            ]
          },
          "metadata": {
            "tags": []
          }
        }
      ]
    },
    {
      "cell_type": "markdown",
      "metadata": {
        "id": "-BiIFr658KDm"
      },
      "source": [
        "# PART 2: Sentiment Analysis using Flair\n",
        "\n",
        "\n",
        "\n"
      ]
    },
    {
      "cell_type": "code",
      "metadata": {
        "id": "IhlHbiiq8KDn"
      },
      "source": [
        "#source - https://colab.research.google.com/drive/1tUr5t0ZJ-I4Ni40dkbjku92HAU5SyR_2?usp=sharing#scrollTo=tIdJp01PsbGT\n",
        "!pip install -q flair \n",
        "\n"
      ],
      "execution_count": 54,
      "outputs": []
    },
    {
      "cell_type": "code",
      "metadata": {
        "id": "TC6_ReRr_Olm",
        "outputId": "4ba91007-b9a1-422b-d590-b93e98401de1",
        "colab": {
          "base_uri": "https://localhost:8080/"
        }
      },
      "source": [
        "from flair.models import TextClassifier\n",
        "from flair.data import Sentence\n",
        "\n",
        "classifier = TextClassifier.load('en-sentiment')\n"
      ],
      "execution_count": 55,
      "outputs": [
        {
          "output_type": "stream",
          "text": [
            "2020-11-10 02:46:55,347 loading file /root/.flair/models/sentiment-en-mix-distillbert_3.1.pt\n"
          ],
          "name": "stdout"
        }
      ]
    },
    {
      "cell_type": "code",
      "metadata": {
        "id": "z0vLwxDu_O0i"
      },
      "source": [
        "def text_sentiment_flair(text):\n",
        "  sentence = Sentence(text)\n",
        "  classifier.predict(sentence)\n",
        "  #return sentence.labels[0].score\n",
        "  return sentence.labels\n",
        "#These all are Negative "
      ],
      "execution_count": 56,
      "outputs": []
    },
    {
      "cell_type": "code",
      "metadata": {
        "id": "5eZdINy5_O3d"
      },
      "source": [
        "df['sentiment_flair'] = df['Case'].apply(lambda x : text_sentiment_flair(x))"
      ],
      "execution_count": 57,
      "outputs": []
    },
    {
      "cell_type": "code",
      "metadata": {
        "id": "R60vWUMn_2Sy",
        "outputId": "f2c7b54d-2eec-463c-b14b-bb3b7a3a8769",
        "colab": {
          "base_uri": "https://localhost:8080/",
          "height": 289
        }
      },
      "source": [
        "df.head()"
      ],
      "execution_count": 58,
      "outputs": [
        {
          "output_type": "execute_result",
          "data": {
            "text/html": [
              "<div>\n",
              "<style scoped>\n",
              "    .dataframe tbody tr th:only-of-type {\n",
              "        vertical-align: middle;\n",
              "    }\n",
              "\n",
              "    .dataframe tbody tr th {\n",
              "        vertical-align: top;\n",
              "    }\n",
              "\n",
              "    .dataframe thead th {\n",
              "        text-align: right;\n",
              "    }\n",
              "</style>\n",
              "<table border=\"1\" class=\"dataframe\">\n",
              "  <thead>\n",
              "    <tr style=\"text-align: right;\">\n",
              "      <th></th>\n",
              "      <th>Case</th>\n",
              "      <th>sentiment</th>\n",
              "      <th>sentiment_Vader</th>\n",
              "      <th>sentiment_flair</th>\n",
              "    </tr>\n",
              "  </thead>\n",
              "  <tbody>\n",
              "    <tr>\n",
              "      <th>0</th>\n",
              "      <td>On behalf of Ms. Amira I would like to ask for your cooperation in tracing her biological mother...</td>\n",
              "      <td>{'neg': 0.053, 'neu': 0.895, 'pos': 0.053, 'compound': -0.2205}</td>\n",
              "      <td>negative</td>\n",
              "      <td>[NEGATIVE (0.9888)]</td>\n",
              "    </tr>\n",
              "    <tr>\n",
              "      <th>1</th>\n",
              "      <td>The following information has been supplied by the Youth Welfare Office in Berlin The Social Wor...</td>\n",
              "      <td>{'neg': 0.044, 'neu': 0.902, 'pos': 0.055, 'compound': 0.9416}</td>\n",
              "      <td>positive</td>\n",
              "      <td>[NEGATIVE (0.9995)]</td>\n",
              "    </tr>\n",
              "    <tr>\n",
              "      <th>2</th>\n",
              "      <td>I hope you all are well and sane in these challenging times. I kindly ask you for your support i...</td>\n",
              "      <td>{'neg': 0.046, 'neu': 0.882, 'pos': 0.072, 'compound': 0.9065}</td>\n",
              "      <td>positive</td>\n",
              "      <td>[NEGATIVE (0.9988)]</td>\n",
              "    </tr>\n",
              "    <tr>\n",
              "      <th>3</th>\n",
              "      <td>The child protection office in Beirut, Lebanon, requests ISS assistance regarding a 6-year-old S...</td>\n",
              "      <td>{'neg': 0.07, 'neu': 0.871, 'pos': 0.059, 'compound': -0.9536}</td>\n",
              "      <td>negative</td>\n",
              "      <td>[NEGATIVE (0.9908)]</td>\n",
              "    </tr>\n",
              "    <tr>\n",
              "      <th>4</th>\n",
              "      <td>I am writing from Children and Families Across Borders, UK, to request your assistance on this c...</td>\n",
              "      <td>{'neg': 0.033, 'neu': 0.856, 'pos': 0.111, 'compound': 0.9988}</td>\n",
              "      <td>positive</td>\n",
              "      <td>[NEGATIVE (0.5476)]</td>\n",
              "    </tr>\n",
              "  </tbody>\n",
              "</table>\n",
              "</div>"
            ],
            "text/plain": [
              "                                                                                                  Case  ...      sentiment_flair\n",
              "0  On behalf of Ms. Amira I would like to ask for your cooperation in tracing her biological mother...  ...  [NEGATIVE (0.9888)]\n",
              "1  The following information has been supplied by the Youth Welfare Office in Berlin The Social Wor...  ...  [NEGATIVE (0.9995)]\n",
              "2  I hope you all are well and sane in these challenging times. I kindly ask you for your support i...  ...  [NEGATIVE (0.9988)]\n",
              "3  The child protection office in Beirut, Lebanon, requests ISS assistance regarding a 6-year-old S...  ...  [NEGATIVE (0.9908)]\n",
              "4  I am writing from Children and Families Across Borders, UK, to request your assistance on this c...  ...  [NEGATIVE (0.5476)]\n",
              "\n",
              "[5 rows x 4 columns]"
            ]
          },
          "metadata": {
            "tags": []
          },
          "execution_count": 58
        }
      ]
    },
    {
      "cell_type": "code",
      "metadata": {
        "id": "1DH59c5q_O65",
        "outputId": "09e0a6a2-340d-41a4-e137-d0e9c255df0a",
        "colab": {
          "base_uri": "https://localhost:8080/"
        }
      },
      "source": [
        "# How Flair Output looks like\n",
        "sentence1 = Sentence('The food was great!')\n",
        "classifier.predict(sentence1)\n",
        "# print sentence with predicted labels\n",
        "print('Sentence 1 above is: ', sentence1.labels)\n",
        "\n",
        "sentence2 = Sentence('The food was not good!')\n",
        "classifier.predict(sentence2)\n",
        "print('Sentence 2 above is: ', sentence2.labels)"
      ],
      "execution_count": 59,
      "outputs": [
        {
          "output_type": "stream",
          "text": [
            "Sentence 1 above is:  [POSITIVE (0.9961)]\n",
            "Sentence 2 above is:  [NEGATIVE (0.9996)]\n"
          ],
          "name": "stdout"
        }
      ]
    },
    {
      "cell_type": "markdown",
      "metadata": {
        "id": "D_yEZBrIAeud"
      },
      "source": [
        "#PART 3: Sentiment Analysis using Aruana"
      ]
    },
    {
      "cell_type": "code",
      "metadata": {
        "id": "0sKzB2l7A8eH"
      },
      "source": [
        "!pip install -q Aruana "
      ],
      "execution_count": 60,
      "outputs": []
    },
    {
      "cell_type": "code",
      "metadata": {
        "id": "1rp-pBp3BVgk"
      },
      "source": [
        "#import emoji\n",
        "!pip install -q emoji "
      ],
      "execution_count": 61,
      "outputs": []
    },
    {
      "cell_type": "code",
      "metadata": {
        "id": "oT3KCWnHAlwc",
        "outputId": "2a17cec8-0806-4aa7-95b9-8d4515c6f689",
        "colab": {
          "base_uri": "https://localhost:8080/"
        }
      },
      "source": [
        "#Source - https://towardsdatascience.com/how-to-label-text-for-sentiment-analysis-good-practises-2dce9e470708\n",
        "import emoji\n",
        "from aruana import Aruana\n",
        "aruana = Aruana('pt-br')\n",
        "sentiment = aruana.random_classification(df['Case'], classes=[0,1], balanced=True)\n",
        "df['sentiment_Aruana'] = sentiment"
      ],
      "execution_count": 62,
      "outputs": [
        {
          "output_type": "stream",
          "text": [
            "Class 0: 109 values\n",
            "Class 1: 106 values\n"
          ],
          "name": "stdout"
        },
        {
          "output_type": "stream",
          "text": [
            "/usr/local/lib/python3.6/dist-packages/aruana/aruana.py:1258: Warning:\n",
            "\n",
            "Could not load model. Execution will continue, but you can't do annotations unless you download the necessary models.\n",
            "\n"
          ],
          "name": "stderr"
        }
      ]
    },
    {
      "cell_type": "code",
      "metadata": {
        "id": "2_RmKy6zAlzE",
        "outputId": "b6173b8f-d0c5-42fe-eb33-bf1f3752c9ee",
        "colab": {
          "base_uri": "https://localhost:8080/",
          "height": 289
        }
      },
      "source": [
        "df.head(5)"
      ],
      "execution_count": 64,
      "outputs": [
        {
          "output_type": "execute_result",
          "data": {
            "text/html": [
              "<div>\n",
              "<style scoped>\n",
              "    .dataframe tbody tr th:only-of-type {\n",
              "        vertical-align: middle;\n",
              "    }\n",
              "\n",
              "    .dataframe tbody tr th {\n",
              "        vertical-align: top;\n",
              "    }\n",
              "\n",
              "    .dataframe thead th {\n",
              "        text-align: right;\n",
              "    }\n",
              "</style>\n",
              "<table border=\"1\" class=\"dataframe\">\n",
              "  <thead>\n",
              "    <tr style=\"text-align: right;\">\n",
              "      <th></th>\n",
              "      <th>Case</th>\n",
              "      <th>sentiment</th>\n",
              "      <th>sentiment_Vader</th>\n",
              "      <th>sentiment_flair</th>\n",
              "      <th>sentiment_Aruana</th>\n",
              "    </tr>\n",
              "  </thead>\n",
              "  <tbody>\n",
              "    <tr>\n",
              "      <th>0</th>\n",
              "      <td>On behalf of Ms. Amira I would like to ask for your cooperation in tracing her biological mother...</td>\n",
              "      <td>{'neg': 0.053, 'neu': 0.895, 'pos': 0.053, 'compound': -0.2205}</td>\n",
              "      <td>negative</td>\n",
              "      <td>[NEGATIVE (0.9888)]</td>\n",
              "      <td>1</td>\n",
              "    </tr>\n",
              "    <tr>\n",
              "      <th>1</th>\n",
              "      <td>The following information has been supplied by the Youth Welfare Office in Berlin The Social Wor...</td>\n",
              "      <td>{'neg': 0.044, 'neu': 0.902, 'pos': 0.055, 'compound': 0.9416}</td>\n",
              "      <td>positive</td>\n",
              "      <td>[NEGATIVE (0.9995)]</td>\n",
              "      <td>1</td>\n",
              "    </tr>\n",
              "    <tr>\n",
              "      <th>2</th>\n",
              "      <td>I hope you all are well and sane in these challenging times. I kindly ask you for your support i...</td>\n",
              "      <td>{'neg': 0.046, 'neu': 0.882, 'pos': 0.072, 'compound': 0.9065}</td>\n",
              "      <td>positive</td>\n",
              "      <td>[NEGATIVE (0.9988)]</td>\n",
              "      <td>0</td>\n",
              "    </tr>\n",
              "    <tr>\n",
              "      <th>3</th>\n",
              "      <td>The child protection office in Beirut, Lebanon, requests ISS assistance regarding a 6-year-old S...</td>\n",
              "      <td>{'neg': 0.07, 'neu': 0.871, 'pos': 0.059, 'compound': -0.9536}</td>\n",
              "      <td>negative</td>\n",
              "      <td>[NEGATIVE (0.9908)]</td>\n",
              "      <td>1</td>\n",
              "    </tr>\n",
              "    <tr>\n",
              "      <th>4</th>\n",
              "      <td>I am writing from Children and Families Across Borders, UK, to request your assistance on this c...</td>\n",
              "      <td>{'neg': 0.033, 'neu': 0.856, 'pos': 0.111, 'compound': 0.9988}</td>\n",
              "      <td>positive</td>\n",
              "      <td>[NEGATIVE (0.5476)]</td>\n",
              "      <td>1</td>\n",
              "    </tr>\n",
              "  </tbody>\n",
              "</table>\n",
              "</div>"
            ],
            "text/plain": [
              "                                                                                                  Case  ... sentiment_Aruana\n",
              "0  On behalf of Ms. Amira I would like to ask for your cooperation in tracing her biological mother...  ...                1\n",
              "1  The following information has been supplied by the Youth Welfare Office in Berlin The Social Wor...  ...                1\n",
              "2  I hope you all are well and sane in these challenging times. I kindly ask you for your support i...  ...                0\n",
              "3  The child protection office in Beirut, Lebanon, requests ISS assistance regarding a 6-year-old S...  ...                1\n",
              "4  I am writing from Children and Families Across Borders, UK, to request your assistance on this c...  ...                1\n",
              "\n",
              "[5 rows x 5 columns]"
            ]
          },
          "metadata": {
            "tags": []
          },
          "execution_count": 64
        }
      ]
    },
    {
      "cell_type": "code",
      "metadata": {
        "id": "k52-bz4aAl12"
      },
      "source": [
        ""
      ],
      "execution_count": 63,
      "outputs": []
    },
    {
      "cell_type": "code",
      "metadata": {
        "id": "XJBCR9VoAl4Z"
      },
      "source": [
        ""
      ],
      "execution_count": 63,
      "outputs": []
    },
    {
      "cell_type": "code",
      "metadata": {
        "id": "Xalqp4etAl74"
      },
      "source": [
        ""
      ],
      "execution_count": 63,
      "outputs": []
    }
  ]
}